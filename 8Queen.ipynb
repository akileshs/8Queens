{
 "cells": [
  {
   "cell_type": "code",
   "execution_count": 1,
   "metadata": {},
   "outputs": [
    {
     "name": "stdout",
     "output_type": "stream",
     "text": [
      "[6, 3, 1, 8, 5, 2, 4, 7]\n"
     ]
    }
   ],
   "source": [
    "import random\n",
    "def intial_population (size):\n",
    "    alpha_list = range(0, size)\n",
    "    init_popu = []\n",
    "    for out_ in alpha_list:\n",
    "        for in_ in alpha_list:\n",
    "            b = [out_,in_]\n",
    "            init_popu.append(b)\n",
    "    return (init_popu)\n",
    "def fit(count, queens):\n",
    "        return count in queens or \\\n",
    "           any(abs(count - x) == len(queens)-i for i,x in enumerate(queens))\n",
    "def score_cross(n):\n",
    "    result = [[]]\n",
    "    for row in range(n):\n",
    "        result = [shortlist+[i+1]\n",
    "                       for shortlist in result\n",
    "                       for i in range(n)\n",
    "                       if not fit(i+1, shortlist)]\n",
    "    return result\n",
    "def main():\n",
    "    size = 8\n",
    "    init_popu = []\n",
    "    init_popu = intial_population(size)\n",
    "    result = score_cross(size)\n",
    "    a = random.randint(0, len(result))\n",
    "    print(result[a])\n",
    "\n",
    "if __name__ == \"__main__\":\n",
    "    main()"
   ]
  },
  {
   "cell_type": "code",
   "execution_count": null,
   "metadata": {},
   "outputs": [],
   "source": []
  }
 ],
 "metadata": {
  "kernelspec": {
   "display_name": "Python 3",
   "language": "python",
   "name": "python3"
  },
  "language_info": {
   "codemirror_mode": {
    "name": "ipython",
    "version": 3
   },
   "file_extension": ".py",
   "mimetype": "text/x-python",
   "name": "python",
   "nbconvert_exporter": "python",
   "pygments_lexer": "ipython3",
   "version": "3.7.3"
  }
 },
 "nbformat": 4,
 "nbformat_minor": 2
}
